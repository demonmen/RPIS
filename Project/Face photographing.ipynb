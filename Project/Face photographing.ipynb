{
 "cells": [
  {
   "cell_type": "code",
   "execution_count": null,
   "metadata": {},
   "outputs": [],
   "source": [
    "import cv2\n",
    "import dlib\n",
    "import numpy as np\n",
    "cap = cv2.VideoCapture(0)\n",
    "detector = dlib.get_frontal_face_detector()\n",
    "i=1\n",
    "while(1):\n",
    "    ret,frame = cap.read()\n",
    "    gray = cv2.cvtColor(frame,cv2.COLOR_RGB2GRAY)\n",
    "    font = cv2.FONT_HERSHEY_SIMPLEX\n",
    "\n",
    "    faces = detector(gray)\n",
    "    if(len(faces)):\n",
    "        for face in faces:\n",
    "            left = face.left()\n",
    "            top = face.top()\n",
    "            right = face.right()\n",
    "            bottom = face.bottom()\n",
    "            if(left<0 or top<0 or right<0 or bottom <0):\n",
    "                continue\n",
    "            imgg = np.copy(gray)\n",
    "            imgg = imgg[top:bottom,left:right]\n",
    "            cv2.rectangle(frame, pt1=(left, top), pt2=(right, bottom), color=(0, 255, 0), thickness=4)\n",
    "            i+=1\n",
    "            if(i%100==0):\n",
    "                cv2.imwrite('image/li/mm'+str(i)+'.jpg',imgg)\n",
    "                print('image saved!!!')\n",
    "    cv2.imshow('camera',frame)\n",
    "    if cv2.waitKey(1) & 0xFF == ord('q'):\n",
    "        break\n",
    "cap.release()\n",
    "cv2.destroyAllWindows()"
   ]
  },
  {
   "cell_type": "code",
   "execution_count": null,
   "metadata": {},
   "outputs": [],
   "source": []
  },
  {
   "cell_type": "code",
   "execution_count": null,
   "metadata": {},
   "outputs": [],
   "source": []
  },
  {
   "cell_type": "code",
   "execution_count": null,
   "metadata": {},
   "outputs": [],
   "source": []
  },
  {
   "cell_type": "code",
   "execution_count": null,
   "metadata": {},
   "outputs": [],
   "source": [
    "#1.0.2\n",
    "#使用opencv+python实现最简单摄像头实时人脸识别（适合入门）\n",
    "i=1\n",
    "import cv2\n",
    "cap = cv2.VideoCapture(0)\n",
    "face = cv2.CascadeClassifier('haarshare/haarcascade_frontalface_default.xml')\n",
    "\n",
    "while(1):\n",
    "    ret,frame = cap.read()\n",
    "    gray = cv2.cvtColor(frame,cv2.COLOR_RGB2GRAY)\n",
    "    font = cv2.FONT_HERSHEY_SIMPLEX\n",
    "    faces = face.detectMultiScale(gray,1.1,3,0,(200,200))\n",
    "    for (x,y,w,h) in faces:\n",
    "        img = cv2.rectangle(frame,(x,y),(x+w,y+h),(255,255,0),2)\n",
    "        gray_roi = gray[y:y+h,x:x+h]\n",
    "        i+=1\n",
    "        if(i%100==0):\n",
    "            cv2.imwrite('image/li/mm'+str(i)+'.jpg',gray_roi)\n",
    "            print('image saved!!!')\n",
    "        \n",
    "    cv2.imshow('camera',frame)\n",
    "    if cv2.waitKey(1) & 0xFF == ord('q'):\n",
    "        break\n",
    "cap.release()\n",
    "cv2.destroyAllWindows()"
   ]
  },
  {
   "cell_type": "code",
   "execution_count": null,
   "metadata": {},
   "outputs": [],
   "source": []
  }
 ],
 "metadata": {
  "kernelspec": {
   "display_name": "Python 3",
   "language": "python",
   "name": "python3"
  },
  "language_info": {
   "codemirror_mode": {
    "name": "ipython",
    "version": 3
   },
   "file_extension": ".py",
   "mimetype": "text/x-python",
   "name": "python",
   "nbconvert_exporter": "python",
   "pygments_lexer": "ipython3",
   "version": "3.7.4"
  }
 },
 "nbformat": 4,
 "nbformat_minor": 2
}
